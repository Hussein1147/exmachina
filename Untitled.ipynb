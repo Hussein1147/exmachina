{
 "cells": [
  {
   "cell_type": "code",
   "execution_count": 97,
   "metadata": {
    "collapsed": true
   },
   "outputs": [],
   "source": [
    "import urllib2\n",
    "import requests\n",
    "import json\n",
    "import imdbpie\n",
    "import time\n",
    "import itertools\n",
    "import wget\n",
    "import os\n",
    "import tmdbsimple as tmdb\n",
    "import numpy as np\n",
    "import random\n",
    "import matplotlib\n",
    "import matplotlib.pyplot as plt\n",
    "%matplotlib inline\n",
    "import seaborn as sns\n",
    "import pickle \n",
    "from sklearn.cluster import SpectralCoclustering\n",
    "\n"
   ]
  },
  {
   "cell_type": "code",
   "execution_count": 98,
   "metadata": {},
   "outputs": [
    {
     "name": "stdout",
     "output_type": "stream",
     "text": [
      "Folder Already Exists\n"
     ]
    }
   ],
   "source": [
    "#get path for poster folder\n",
    "poster_folder ='posters_final/'\n",
    "if poster_folder.split('/')[0] in os.listdir('./'):\n",
    "    print('Folder Already Exists')\n",
    "else:\n",
    "    os.mkdir('./' + poster_folder)\n",
    "    "
   ]
  },
  {
   "cell_type": "code",
   "execution_count": 99,
   "metadata": {
    "collapsed": true
   },
   "outputs": [],
   "source": [
    "# set api Key\n",
    "api_key = '2394c2732dbd71e0d077753640f3d6b0' \n",
    "tmdb.API_KEY = api_key\n",
    "search = tmdb.Search()\n",
    "\n",
    "#scarper functions\n",
    "def grab_poster_tmdb(movie):\n",
    "    response = search.movie(query=movie)\n",
    "    id=response['results'][0]['id']\n",
    "    movie = tmdb.Movies(id)\n",
    "    posterp=movie.info()['poster_path']\n",
    "    title=movie.info()['original_title']\n",
    "    url='image.tmdb.org/t/p/original'+posterp\n",
    "    title='_'.join(title.split(' '))\n",
    "    strcmd='wget -O '+ poster_folder+ title+'.jpg '+ url\n",
    "    os.system(strcmd)\n",
    "\n",
    "def get_movie_id_tmdb(movie):\n",
    "    response = search.movie(query=movie)\n",
    "    movie_id=response['results'][0]['id']\n",
    "    return movie_id\n",
    "\n",
    "def get_movie_info_tmdb(movie):\n",
    "    response = search.movie(query=movie)\n",
    "    id=response['results'][0]['id']\n",
    "    movie = tmdb.Movies(id)\n",
    "    info=movie.info()\n",
    "    return info\n",
    "\n",
    "def get_movie_genres_tmdb(movie):\n",
    "    response = search.movie(query=movie)\n",
    "    id=response['results'][0]['id']\n",
    "    movie = tmdb.Movies(id)\n",
    "    genres=movie.info()['genres']\n",
    "    return genres"
   ]
  },
  {
   "cell_type": "code",
   "execution_count": 100,
   "metadata": {
    "collapsed": true
   },
   "outputs": [],
   "source": [
    "all_movies = tmdb.Movies()\n",
    "top_movies = all_movies.popular()\n",
    "\n",
    "#top 20\n",
    "\n",
    "len(top_movies['results'])\n",
    "top20_movs = top_movies['results']\n",
    "\n",
    "\n",
    "\n",
    "\n"
   ]
  },
  {
   "cell_type": "code",
   "execution_count": 101,
   "metadata": {},
   "outputs": [
    {
     "name": "stdout",
     "output_type": "stream",
     "text": [
      "pulling movie list, please wait\n"
     ]
    }
   ],
   "source": [
    "top1000_movies = []\n",
    "print('pulling movie list, please wait')\n",
    "# for i in range(1,51):\n",
    "#     if i%15 == 0:\n",
    "#         time.sleep(7)\n",
    "#     movies_on_this_page=all_movies.popular(page=i)['results']\n",
    "#     top1000_movies.extend(movies_on_this_page)\n",
    "# len(top1000_movies)\n",
    "# f3=open('movie_list.pckl','wb')\n",
    "# pickle.dump(top1000_movies,f3)\n",
    "# f3.close()\n",
    "# print('Done!')\n",
    "    "
   ]
  },
  {
   "cell_type": "code",
   "execution_count": 102,
   "metadata": {
    "collapsed": true
   },
   "outputs": [],
   "source": [
    "f3=open('movie_list.pckl','rb')\n",
    "top1000_movies=pickle.load(f3)\n",
    "f3.close()"
   ]
  },
  {
   "cell_type": "code",
   "execution_count": 103,
   "metadata": {
    "collapsed": true
   },
   "outputs": [],
   "source": [
    "def list2pairs(l):\n",
    "    # itertools.combinations(l,2) makes all pairs of length 2 from list l.\n",
    "    pairs = list(itertools.combinations(l, 2))\n",
    "    # then the one item pairs, as duplicate pairs aren't accounted for by itertools\n",
    "    for i in l:\n",
    "        pairs.append([i,i])\n",
    "    return pairs"
   ]
  },
  {
   "cell_type": "code",
   "execution_count": 104,
   "metadata": {
    "collapsed": true
   },
   "outputs": [],
   "source": [
    "allPairs = []\n",
    "for movie in top1000_movies:\n",
    "    allPairs.extend(list2pairs(movie['genre_ids'])) \n",
    "\n",
    "nr_ids = np.unique(allPairs)\n",
    "\n",
    "visGrid = np.zeros((len(nr_ids), len(nr_ids)))\n",
    "for p in allPairs:\n",
    "    visGrid[np.argwhere(nr_ids==p[0]), np.argwhere(nr_ids==p[1])]+=1\n",
    "    if p[1] != p[0]:\n",
    "        visGrid[np.argwhere(nr_ids==p[1]), np.argwhere(nr_ids==p[0])]+=1"
   ]
  },
  {
   "cell_type": "code",
   "execution_count": 105,
   "metadata": {
    "collapsed": true
   },
   "outputs": [],
   "source": [
    "annot_lookup = []\n",
    "genres=tmdb.Genres()\n",
    "list_of_genres=genres.list()['genres']\n",
    "\n",
    "Genre_ID_to_name={}\n",
    "\n",
    "#generate a list of genres\n",
    "\n",
    "for i in range(len(list_of_genres)):\n",
    "    genre_id=list_of_genres[i]['id']\n",
    "    genre_name=list_of_genres[i]['name']\n",
    "    Genre_ID_to_name[genre_id]=genre_name\n",
    "    \n",
    "for i in xrange(len(nr_ids)):\n",
    "    annot_lookup.append(Genre_ID_to_name[nr_ids[i]])\n",
    "\n",
    "# sns.heatmap(visGrid, xticklabels=annot_lookup, yticklabels=annot_lookup)"
   ]
  },
  {
   "cell_type": "code",
   "execution_count": 106,
   "metadata": {},
   "outputs": [
    {
     "data": {
      "image/png": "[encoded data removed]",
      "text/plain": [
       "<matplotlib.figure.Figure at 0x7f1d7f678e50>"
      ]
     },
     "metadata": {},
     "output_type": "display_data"
    }
   ],
   "source": [
    "model= SpectralCoclustering(n_clusters=5)\n",
    "model.fit(visGrid)\n",
    "\n",
    "fit_data = visGrid[np.argsort(model.row_labels_)]\n",
    "fit_data= visGrid[:, np.argsort(model.column_labels_)]\n",
    "\n",
    "annot_lookup_sorted = []\n",
    "\n",
    "for i in np.argsort(model.row_labels_):\n",
    "    annot_lookup_sorted.append(Genre_ID_to_name[nr_ids[i]])\n",
    "    \n",
    "sns.heatmap(fit_data, xticklabels= annot_lookup_sorted, yticklabels=annot_lookup_sorted, annot= False)\n",
    "plt.title(\"Biclustering\")\n",
    "plt.show()"
   ]
  },
  {
   "cell_type": "code",
   "execution_count": 107,
   "metadata": {},
   "outputs": [
    {
     "name": "stdout",
     "output_type": "stream",
     "text": [
      "Starting pulling movies from TMDB.\n",
      "Pulled movies for genres - 12,12,12,12,12,14,14,14,14,14,16,16,16,16,16,18,18,18,18,18,27,27,27,27,27,28,28,28,28,28,35,35,35,35,35,36,36,36,36,36,37,37,37,37,37,53,53,53,53,53,80,80,80,80,80,99,99,99,99,99,878,878,878,878,878,9648,9648,9648,9648,9648,10402,10402,10402,10402,10402,10749,10749,10749,10749,10749,10751,10751,10751,10751,10751,10752,10752,10752,10752,10752,10770,10770,10770,10770,10770\n",
      "originally we had  1771  movies\n",
      "1698\n",
      "After removing duplicates we have  1698  movies\n",
      "('Total movies : ', 1771)\n",
      "Started downloading posters...\n",
      "Downloaded first. Code is working fine. Please wait, this will take quite some time...\n",
      "Done with  300  movies!\n",
      "Trying to get poster for  The Twilight Saga: Breaking Dawn - Part 2\n",
      "Done with  600  movies!\n",
      "Trying to get poster for  Grown Ups\n",
      "Done with  900  movies!\n",
      "Trying to get poster for  The Good Shepherd\n",
      "Done with  1200  movies!\n",
      "Trying to get poster for  Knight Rider 2000\n",
      "Done with  1500  movies!\n",
      "Trying to get poster for  The Curse of the Jade Scorpion\n",
      "Done with all the posters!\n"
     ]
    }
   ],
   "source": [
    "#pull movie posters from tmdb\n",
    "movies = []\n",
    "baseyear = 2017\n",
    "print('Starting pulling movies from TMDB.')\n",
    "done_ids=[]\n",
    "\n",
    "for g_id in nr_ids:\n",
    "\n",
    "    baseyear -= 1\n",
    "    for page in xrange(1,6,1):\n",
    "        time.sleep(0.5)\n",
    "\n",
    "        url = 'https://api.themoviedb.org/3/discover/movie?api_key=' + api_key\n",
    "        url += '&language=en-US&sort_by=popularity.desc&year=' + str(baseyear) \n",
    "        url += '&with_genres=' + str(g_id) + '&page=' + str(page)\n",
    "\n",
    "        data = urllib2.urlopen(url).read()\n",
    "\n",
    "        dataDict = json.loads(data)\n",
    "\n",
    "        movies.extend(dataDict[\"results\"])\n",
    "\n",
    "        done_ids.append(str(g_id))\n",
    "print(\"Pulled movies for genres - \"+','.join(done_ids))\n",
    "\n",
    "f6=open(\"movies_for_posters\",'wb')\n",
    "pickle.dump(movies,f6)\n",
    "f6.close()\n",
    "\n",
    "f6=open(\"movies_for_posters\",'rb')\n",
    "movies=pickle.load(f6)\n",
    "f6.close()\n",
    "\n",
    "#remove duplicates\n",
    "\n",
    "movie_ids = [m['id'] for m in movies]\n",
    "print \"originally we had \",len(movie_ids),\" movies\"\n",
    "movie_ids=np.unique(movie_ids)\n",
    "print len(movie_ids)\n",
    "seen_before=[]\n",
    "no_duplicate_movies=[]\n",
    "\n",
    "for i in range(len(movies)):\n",
    "    movie=movies[i]\n",
    "    id=movie['id']\n",
    "    if id in seen_before:\n",
    "        continue\n",
    "#         print \"Seen before\"\n",
    "    else:\n",
    "        seen_before.append(id)\n",
    "        no_duplicate_movies.append(movie)\n",
    "print \"After removing duplicates we have \",len(no_duplicate_movies), \" movies\"\n",
    "\n",
    "#remove movies with no posters\n",
    "poster_movies=[]\n",
    "counter=0\n",
    "movies_no_poster=[]\n",
    "print(\"Total movies : \",len(movies))\n",
    "print(\"Started downloading posters...\")\n",
    "for movie in movies:\n",
    "    id=movie['id']\n",
    "    title=movie['title']\n",
    "    if counter==1:\n",
    "        print('Downloaded first. Code is working fine. Please wait, this will take quite some time...')\n",
    "    if counter%300==0 and counter!=0:\n",
    "        print \"Done with \",counter,\" movies!\"\n",
    "        print \"Trying to get poster for \",title\n",
    "    try:\n",
    "        grab_poster_tmdb(title)\n",
    "        poster_movies.append(movie)\n",
    "    except:\n",
    "        try:\n",
    "            time.sleep(7)\n",
    "            grab_poster_tmdb(title)\n",
    "            poster_movies.append(movie)\n",
    "        except:\n",
    "            movies_no_poster.append(movie)\n",
    "    counter+=1\n",
    "print(\"Done with all the posters!\")\n",
    "\n"
   ]
  },
  {
   "cell_type": "code",
   "execution_count": 108,
   "metadata": {},
   "outputs": [],
   "source": [
    "#No duplicate movies\n",
    "\n",
    "f5 = open('no_duplicate_movies.pckl','w')\n",
    "pickle.dump(no_duplicate_movies,f5)\n",
    "f5.close()\n",
    "\n",
    "f5= open('no_duplicate_movies.pckl','r')\n",
    "no_duplicate_movies = pickle.load(f5)\n",
    "f5.close()\n",
    "\n",
    "#poster movies\n",
    "f7=open('poster_movies.pckl','w')\n",
    "pickle.dump(poster_movies,f7)\n",
    "f7.close()\n",
    "\n",
    "f7= open('poster_movies.pckl','r')\n",
    "poster_movies=pickle.load(f7)\n",
    "f7.close()\n",
    "\n",
    "#no poster movies\n",
    "f8=open('no_poster_movies.pckl','w')\n",
    "pickle.dump(movies_no_poster,f8)\n",
    "f8.close()\n",
    "\n",
    "f8= open('no_poster_movies.pckl','r')\n",
    "movies_no_poster=pickle.load(f8)\n",
    "f8.close()\n"
   ]
  }
 ],
 "metadata": {
  "kernelspec": {
   "display_name": "Python 2",
   "language": "python",
   "name": "python2"
  },
  "language_info": {
   "codemirror_mode": {
    "name": "ipython",
    "version": 2
   },
   "file_extension": ".py",
   "mimetype": "text/x-python",
   "name": "python",
   "nbconvert_exporter": "python",
   "pygments_lexer": "ipython2",
   "version": "2.7.6"
  }
 },
 "nbformat": 4,
 "nbformat_minor": 2
}
